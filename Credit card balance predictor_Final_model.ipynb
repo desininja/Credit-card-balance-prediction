{
 "cells": [
  {
   "cell_type": "markdown",
   "id": "occasional-cherry",
   "metadata": {},
   "source": [
    "## This is a data frame with 400 observations on the following variables:\n",
    "\n",
    "### The goal of this exercise is to analyze a dataset consisting of information from 400 credit card holders and to comprehend which factors influence the Credit Card Balance of a cardholder and to predict the average Balance of a given individual. \n",
    "\n",
    "\n",
    "#### ID - Identification\n",
    "#### Income - Income in 10,0000 (Dollars)\n",
    "#### Limit - Credit limit\n",
    "#### Rating - Credit rating\n",
    "#### Age - Age in year\n",
    "#### Education - number of years of education\n",
    "#### Gender - Male or Female\n",
    "#### Student - Yes or No\n",
    "#### Married - Yes or No\n",
    "#### Ethnicity - African American, Asian or Caucasian\n",
    "#### Balance - Average credit card balance in Dollars\n",
    "\n",
    "#### Objective: The aim is to determine which factors influence the credit card Balance of any given individual."
   ]
  },
  {
   "cell_type": "code",
   "execution_count": 1,
   "id": "tribal-crime",
   "metadata": {},
   "outputs": [],
   "source": [
    "#Importing required libraries\n",
    "\n",
    "import numpy as np                 #numpy stands for Numerical Python, it is used for numerical operations\n",
    "import pandas as pd                #pandas stands for Python Data Analysis Library, it is used for data manipulation\n",
    "import matplotlib.pyplot as plt    #matplot library for plotting\n",
    "import seaborn as sns              #seaborn library for Plotting\n",
    "import warnings                    #to ignore warnings\n",
    "warnings.filterwarnings('ignore')  "
   ]
  },
  {
   "cell_type": "code",
   "execution_count": 2,
   "id": "acknowledged-chair",
   "metadata": {},
   "outputs": [],
   "source": [
    "df = pd.read_csv(\"Credit.csv\")     #imported the data, here only the name of file is used as \n",
    "                                   #it is in the same directory as the program"
   ]
  },
  {
   "cell_type": "code",
   "execution_count": 3,
   "id": "southern-print",
   "metadata": {},
   "outputs": [
    {
     "data": {
      "text/html": [
       "<div>\n",
       "<style scoped>\n",
       "    .dataframe tbody tr th:only-of-type {\n",
       "        vertical-align: middle;\n",
       "    }\n",
       "\n",
       "    .dataframe tbody tr th {\n",
       "        vertical-align: top;\n",
       "    }\n",
       "\n",
       "    .dataframe thead th {\n",
       "        text-align: right;\n",
       "    }\n",
       "</style>\n",
       "<table border=\"1\" class=\"dataframe\">\n",
       "  <thead>\n",
       "    <tr style=\"text-align: right;\">\n",
       "      <th></th>\n",
       "      <th>Unnamed: 0</th>\n",
       "      <th>Income</th>\n",
       "      <th>Limit</th>\n",
       "      <th>Rating</th>\n",
       "      <th>Cards</th>\n",
       "      <th>Age</th>\n",
       "      <th>Education</th>\n",
       "      <th>Gender</th>\n",
       "      <th>Student</th>\n",
       "      <th>Married</th>\n",
       "      <th>Ethnicity</th>\n",
       "      <th>Balance</th>\n",
       "    </tr>\n",
       "  </thead>\n",
       "  <tbody>\n",
       "    <tr>\n",
       "      <th>0</th>\n",
       "      <td>1</td>\n",
       "      <td>14.891</td>\n",
       "      <td>3606</td>\n",
       "      <td>283</td>\n",
       "      <td>2</td>\n",
       "      <td>34</td>\n",
       "      <td>11</td>\n",
       "      <td>Male</td>\n",
       "      <td>No</td>\n",
       "      <td>Yes</td>\n",
       "      <td>Caucasian</td>\n",
       "      <td>333</td>\n",
       "    </tr>\n",
       "    <tr>\n",
       "      <th>1</th>\n",
       "      <td>2</td>\n",
       "      <td>106.025</td>\n",
       "      <td>6645</td>\n",
       "      <td>483</td>\n",
       "      <td>3</td>\n",
       "      <td>82</td>\n",
       "      <td>15</td>\n",
       "      <td>Female</td>\n",
       "      <td>Yes</td>\n",
       "      <td>Yes</td>\n",
       "      <td>Asian</td>\n",
       "      <td>903</td>\n",
       "    </tr>\n",
       "    <tr>\n",
       "      <th>2</th>\n",
       "      <td>3</td>\n",
       "      <td>104.593</td>\n",
       "      <td>7075</td>\n",
       "      <td>514</td>\n",
       "      <td>4</td>\n",
       "      <td>71</td>\n",
       "      <td>11</td>\n",
       "      <td>Male</td>\n",
       "      <td>No</td>\n",
       "      <td>No</td>\n",
       "      <td>Asian</td>\n",
       "      <td>580</td>\n",
       "    </tr>\n",
       "    <tr>\n",
       "      <th>3</th>\n",
       "      <td>4</td>\n",
       "      <td>148.924</td>\n",
       "      <td>9504</td>\n",
       "      <td>681</td>\n",
       "      <td>3</td>\n",
       "      <td>36</td>\n",
       "      <td>11</td>\n",
       "      <td>Female</td>\n",
       "      <td>No</td>\n",
       "      <td>No</td>\n",
       "      <td>Asian</td>\n",
       "      <td>964</td>\n",
       "    </tr>\n",
       "    <tr>\n",
       "      <th>4</th>\n",
       "      <td>5</td>\n",
       "      <td>55.882</td>\n",
       "      <td>4897</td>\n",
       "      <td>357</td>\n",
       "      <td>2</td>\n",
       "      <td>68</td>\n",
       "      <td>16</td>\n",
       "      <td>Male</td>\n",
       "      <td>No</td>\n",
       "      <td>Yes</td>\n",
       "      <td>Caucasian</td>\n",
       "      <td>331</td>\n",
       "    </tr>\n",
       "  </tbody>\n",
       "</table>\n",
       "</div>"
      ],
      "text/plain": [
       "   Unnamed: 0   Income  Limit  Rating  Cards  Age  Education  Gender Student  \\\n",
       "0           1   14.891   3606     283      2   34         11    Male      No   \n",
       "1           2  106.025   6645     483      3   82         15  Female     Yes   \n",
       "2           3  104.593   7075     514      4   71         11    Male      No   \n",
       "3           4  148.924   9504     681      3   36         11  Female      No   \n",
       "4           5   55.882   4897     357      2   68         16    Male      No   \n",
       "\n",
       "  Married  Ethnicity  Balance  \n",
       "0     Yes  Caucasian      333  \n",
       "1     Yes      Asian      903  \n",
       "2      No      Asian      580  \n",
       "3      No      Asian      964  \n",
       "4     Yes  Caucasian      331  "
      ]
     },
     "execution_count": 3,
     "metadata": {},
     "output_type": "execute_result"
    }
   ],
   "source": [
    "df.head()                          #head() function prints the top 5 rows"
   ]
  },
  {
   "cell_type": "code",
   "execution_count": 4,
   "id": "local-protection",
   "metadata": {},
   "outputs": [],
   "source": [
    "#As we can see the \"Unnamed: 0 does not give any information about data, hence we are removing it from our dataframe\"\n",
    "df.drop('Unnamed: 0', inplace = True, axis =1)"
   ]
  },
  {
   "cell_type": "markdown",
   "id": "peaceful-grave",
   "metadata": {},
   "source": [
    "# EDA: Exploratory Data Analysis"
   ]
  },
  {
   "cell_type": "code",
   "execution_count": 5,
   "id": "funded-virgin",
   "metadata": {},
   "outputs": [
    {
     "data": {
      "text/plain": [
       "<AxesSubplot:>"
      ]
     },
     "execution_count": 5,
     "metadata": {},
     "output_type": "execute_result"
    },
    {
     "data": {
      "image/png": "[encoded data removed]",
      "text/plain": [
       "<Figure size 432x288 with 1 Axes>"
      ]
     },
     "metadata": {
      "needs_background": "light"
     },
     "output_type": "display_data"
    }
   ],
   "source": [
    "sns.heatmap(df.isna(),yticklabels =False, cbar =False, cmap= 'viridis')  \n",
    "#to visualize the missing values."
   ]
  },
  {
   "cell_type": "code",
   "execution_count": 6,
   "id": "biblical-excuse",
   "metadata": {},
   "outputs": [
    {
     "data": {
      "text/plain": [
       "Income       0\n",
       "Limit        0\n",
       "Rating       0\n",
       "Cards        0\n",
       "Age          0\n",
       "Education    0\n",
       "Gender       0\n",
       "Student      0\n",
       "Married      0\n",
       "Ethnicity    0\n",
       "Balance      0\n",
       "dtype: int64"
      ]
     },
     "execution_count": 6,
     "metadata": {},
     "output_type": "execute_result"
    }
   ],
   "source": [
    "df.isna().sum()   # prints the null values in data"
   ]
  },
  {
   "cell_type": "code",
   "execution_count": 7,
   "id": "boring-thumb",
   "metadata": {
    "scrolled": true
   },
   "outputs": [
    {
     "data": {
      "text/plain": [
       "(400, 11)"
      ]
     },
     "execution_count": 7,
     "metadata": {},
     "output_type": "execute_result"
    }
   ],
   "source": [
    "df.shape          # checking the shape of data (rows =400, col=12)"
   ]
  },
  {
   "cell_type": "code",
   "execution_count": 8,
   "id": "academic-timber",
   "metadata": {},
   "outputs": [
    {
     "name": "stdout",
     "output_type": "stream",
     "text": [
      "<class 'pandas.core.frame.DataFrame'>\n",
      "RangeIndex: 400 entries, 0 to 399\n",
      "Data columns (total 11 columns):\n",
      " #   Column     Non-Null Count  Dtype  \n",
      "---  ------     --------------  -----  \n",
      " 0   Income     400 non-null    float64\n",
      " 1   Limit      400 non-null    int64  \n",
      " 2   Rating     400 non-null    int64  \n",
      " 3   Cards      400 non-null    int64  \n",
      " 4   Age        400 non-null    int64  \n",
      " 5   Education  400 non-null    int64  \n",
      " 6   Gender     400 non-null    object \n",
      " 7   Student    400 non-null    object \n",
      " 8   Married    400 non-null    object \n",
      " 9   Ethnicity  400 non-null    object \n",
      " 10  Balance    400 non-null    int64  \n",
      "dtypes: float64(1), int64(6), object(4)\n",
      "memory usage: 34.5+ KB\n"
     ]
    }
   ],
   "source": [
    "df.info()  # prints the metadata of data"
   ]
  },
  {
   "cell_type": "code",
   "execution_count": 9,
   "id": "civil-heating",
   "metadata": {},
   "outputs": [
    {
     "data": {
      "text/html": [
       "<div>\n",
       "<style scoped>\n",
       "    .dataframe tbody tr th:only-of-type {\n",
       "        vertical-align: middle;\n",
       "    }\n",
       "\n",
       "    .dataframe tbody tr th {\n",
       "        vertical-align: top;\n",
       "    }\n",
       "\n",
       "    .dataframe thead th {\n",
       "        text-align: right;\n",
       "    }\n",
       "</style>\n",
       "<table border=\"1\" class=\"dataframe\">\n",
       "  <thead>\n",
       "    <tr style=\"text-align: right;\">\n",
       "      <th></th>\n",
       "      <th>Income</th>\n",
       "      <th>Limit</th>\n",
       "      <th>Rating</th>\n",
       "      <th>Cards</th>\n",
       "      <th>Age</th>\n",
       "      <th>Education</th>\n",
       "      <th>Balance</th>\n",
       "    </tr>\n",
       "  </thead>\n",
       "  <tbody>\n",
       "    <tr>\n",
       "      <th>count</th>\n",
       "      <td>400.000000</td>\n",
       "      <td>400.000000</td>\n",
       "      <td>400.000000</td>\n",
       "      <td>400.000000</td>\n",
       "      <td>400.000000</td>\n",
       "      <td>400.000000</td>\n",
       "      <td>400.000000</td>\n",
       "    </tr>\n",
       "    <tr>\n",
       "      <th>mean</th>\n",
       "      <td>45.218885</td>\n",
       "      <td>4735.600000</td>\n",
       "      <td>354.940000</td>\n",
       "      <td>2.957500</td>\n",
       "      <td>55.667500</td>\n",
       "      <td>13.450000</td>\n",
       "      <td>520.015000</td>\n",
       "    </tr>\n",
       "    <tr>\n",
       "      <th>std</th>\n",
       "      <td>35.244273</td>\n",
       "      <td>2308.198848</td>\n",
       "      <td>154.724143</td>\n",
       "      <td>1.371275</td>\n",
       "      <td>17.249807</td>\n",
       "      <td>3.125207</td>\n",
       "      <td>459.758877</td>\n",
       "    </tr>\n",
       "    <tr>\n",
       "      <th>min</th>\n",
       "      <td>10.354000</td>\n",
       "      <td>855.000000</td>\n",
       "      <td>93.000000</td>\n",
       "      <td>1.000000</td>\n",
       "      <td>23.000000</td>\n",
       "      <td>5.000000</td>\n",
       "      <td>0.000000</td>\n",
       "    </tr>\n",
       "    <tr>\n",
       "      <th>25%</th>\n",
       "      <td>21.007250</td>\n",
       "      <td>3088.000000</td>\n",
       "      <td>247.250000</td>\n",
       "      <td>2.000000</td>\n",
       "      <td>41.750000</td>\n",
       "      <td>11.000000</td>\n",
       "      <td>68.750000</td>\n",
       "    </tr>\n",
       "    <tr>\n",
       "      <th>50%</th>\n",
       "      <td>33.115500</td>\n",
       "      <td>4622.500000</td>\n",
       "      <td>344.000000</td>\n",
       "      <td>3.000000</td>\n",
       "      <td>56.000000</td>\n",
       "      <td>14.000000</td>\n",
       "      <td>459.500000</td>\n",
       "    </tr>\n",
       "    <tr>\n",
       "      <th>75%</th>\n",
       "      <td>57.470750</td>\n",
       "      <td>5872.750000</td>\n",
       "      <td>437.250000</td>\n",
       "      <td>4.000000</td>\n",
       "      <td>70.000000</td>\n",
       "      <td>16.000000</td>\n",
       "      <td>863.000000</td>\n",
       "    </tr>\n",
       "    <tr>\n",
       "      <th>max</th>\n",
       "      <td>186.634000</td>\n",
       "      <td>13913.000000</td>\n",
       "      <td>982.000000</td>\n",
       "      <td>9.000000</td>\n",
       "      <td>98.000000</td>\n",
       "      <td>20.000000</td>\n",
       "      <td>1999.000000</td>\n",
       "    </tr>\n",
       "  </tbody>\n",
       "</table>\n",
       "</div>"
      ],
      "text/plain": [
       "           Income         Limit      Rating       Cards         Age  \\\n",
       "count  400.000000    400.000000  400.000000  400.000000  400.000000   \n",
       "mean    45.218885   4735.600000  354.940000    2.957500   55.667500   \n",
       "std     35.244273   2308.198848  154.724143    1.371275   17.249807   \n",
       "min     10.354000    855.000000   93.000000    1.000000   23.000000   \n",
       "25%     21.007250   3088.000000  247.250000    2.000000   41.750000   \n",
       "50%     33.115500   4622.500000  344.000000    3.000000   56.000000   \n",
       "75%     57.470750   5872.750000  437.250000    4.000000   70.000000   \n",
       "max    186.634000  13913.000000  982.000000    9.000000   98.000000   \n",
       "\n",
       "        Education      Balance  \n",
       "count  400.000000   400.000000  \n",
       "mean    13.450000   520.015000  \n",
       "std      3.125207   459.758877  \n",
       "min      5.000000     0.000000  \n",
       "25%     11.000000    68.750000  \n",
       "50%     14.000000   459.500000  \n",
       "75%     16.000000   863.000000  \n",
       "max     20.000000  1999.000000  "
      ]
     },
     "execution_count": 9,
     "metadata": {},
     "output_type": "execute_result"
    }
   ],
   "source": [
    "df.describe()"
   ]
  },
  {
   "cell_type": "markdown",
   "id": "innocent-receipt",
   "metadata": {},
   "source": [
    "## Describing the target of inference\n",
    "\n",
    "### One of the first steps of this Exploratory Data Analysis is to examine the target of inference ( Balance ) in isolation"
   ]
  },
  {
   "cell_type": "code",
   "execution_count": 10,
   "id": "superb-morrison",
   "metadata": {},
   "outputs": [
    {
     "data": {
      "text/plain": [
       "<AxesSubplot:xlabel='Balance', ylabel='Density'>"
      ]
     },
     "execution_count": 10,
     "metadata": {},
     "output_type": "execute_result"
    },
    {
     "data": {
      "image/png": "[encoded data removed]",
      "text/plain": [
       "<Figure size 432x288 with 1 Axes>"
      ]
     },
     "metadata": {
      "needs_background": "light"
     },
     "output_type": "display_data"
    }
   ],
   "source": [
    "#Plotting a Histogram, to get an idea about our data concentration. \n",
    "\n",
    "sns.distplot(df.Balance)"
   ]
  },
  {
   "cell_type": "markdown",
   "id": "informative-henry",
   "metadata": {},
   "source": [
    "It can be noticed that a large portion of the sample consists of Zero Balance Cards.\n",
    "This is an important distinction because, if the average credit card Balance for a given individual is zero, we conclude that the person does not make use of that credit card.\n",
    "\n",
    "As a credit card company, we may be interested in knowing the average balance across our frequent users (for instance, to identify those at risk of default), and the zero Balances may skew our results."
   ]
  },
  {
   "cell_type": "code",
   "execution_count": 11,
   "id": "varied-natural",
   "metadata": {},
   "outputs": [
    {
     "data": {
      "text/html": [
       "<div>\n",
       "<style scoped>\n",
       "    .dataframe tbody tr th:only-of-type {\n",
       "        vertical-align: middle;\n",
       "    }\n",
       "\n",
       "    .dataframe tbody tr th {\n",
       "        vertical-align: top;\n",
       "    }\n",
       "\n",
       "    .dataframe thead th {\n",
       "        text-align: right;\n",
       "    }\n",
       "</style>\n",
       "<table border=\"1\" class=\"dataframe\">\n",
       "  <thead>\n",
       "    <tr style=\"text-align: right;\">\n",
       "      <th></th>\n",
       "      <th>Income</th>\n",
       "      <th>Limit</th>\n",
       "      <th>Rating</th>\n",
       "      <th>Cards</th>\n",
       "      <th>Age</th>\n",
       "      <th>Education</th>\n",
       "      <th>Gender</th>\n",
       "      <th>Student</th>\n",
       "      <th>Married</th>\n",
       "      <th>Ethnicity</th>\n",
       "      <th>Balance</th>\n",
       "    </tr>\n",
       "  </thead>\n",
       "  <tbody>\n",
       "    <tr>\n",
       "      <th>11</th>\n",
       "      <td>15.045</td>\n",
       "      <td>1311</td>\n",
       "      <td>138</td>\n",
       "      <td>3</td>\n",
       "      <td>64</td>\n",
       "      <td>16</td>\n",
       "      <td>Male</td>\n",
       "      <td>No</td>\n",
       "      <td>No</td>\n",
       "      <td>Caucasian</td>\n",
       "      <td>0</td>\n",
       "    </tr>\n",
       "    <tr>\n",
       "      <th>15</th>\n",
       "      <td>20.089</td>\n",
       "      <td>2525</td>\n",
       "      <td>200</td>\n",
       "      <td>3</td>\n",
       "      <td>57</td>\n",
       "      <td>15</td>\n",
       "      <td>Female</td>\n",
       "      <td>No</td>\n",
       "      <td>Yes</td>\n",
       "      <td>African American</td>\n",
       "      <td>0</td>\n",
       "    </tr>\n",
       "    <tr>\n",
       "      <th>16</th>\n",
       "      <td>53.598</td>\n",
       "      <td>3714</td>\n",
       "      <td>286</td>\n",
       "      <td>3</td>\n",
       "      <td>73</td>\n",
       "      <td>17</td>\n",
       "      <td>Female</td>\n",
       "      <td>No</td>\n",
       "      <td>Yes</td>\n",
       "      <td>African American</td>\n",
       "      <td>0</td>\n",
       "    </tr>\n",
       "    <tr>\n",
       "      <th>22</th>\n",
       "      <td>20.103</td>\n",
       "      <td>2631</td>\n",
       "      <td>213</td>\n",
       "      <td>3</td>\n",
       "      <td>61</td>\n",
       "      <td>10</td>\n",
       "      <td>Male</td>\n",
       "      <td>No</td>\n",
       "      <td>Yes</td>\n",
       "      <td>African American</td>\n",
       "      <td>0</td>\n",
       "    </tr>\n",
       "    <tr>\n",
       "      <th>24</th>\n",
       "      <td>10.742</td>\n",
       "      <td>1757</td>\n",
       "      <td>156</td>\n",
       "      <td>3</td>\n",
       "      <td>57</td>\n",
       "      <td>15</td>\n",
       "      <td>Female</td>\n",
       "      <td>No</td>\n",
       "      <td>No</td>\n",
       "      <td>Caucasian</td>\n",
       "      <td>0</td>\n",
       "    </tr>\n",
       "    <tr>\n",
       "      <th>...</th>\n",
       "      <td>...</td>\n",
       "      <td>...</td>\n",
       "      <td>...</td>\n",
       "      <td>...</td>\n",
       "      <td>...</td>\n",
       "      <td>...</td>\n",
       "      <td>...</td>\n",
       "      <td>...</td>\n",
       "      <td>...</td>\n",
       "      <td>...</td>\n",
       "      <td>...</td>\n",
       "    </tr>\n",
       "    <tr>\n",
       "      <th>384</th>\n",
       "      <td>20.088</td>\n",
       "      <td>1870</td>\n",
       "      <td>180</td>\n",
       "      <td>3</td>\n",
       "      <td>76</td>\n",
       "      <td>16</td>\n",
       "      <td>Male</td>\n",
       "      <td>No</td>\n",
       "      <td>No</td>\n",
       "      <td>African American</td>\n",
       "      <td>0</td>\n",
       "    </tr>\n",
       "    <tr>\n",
       "      <th>387</th>\n",
       "      <td>16.529</td>\n",
       "      <td>1357</td>\n",
       "      <td>126</td>\n",
       "      <td>3</td>\n",
       "      <td>62</td>\n",
       "      <td>9</td>\n",
       "      <td>Male</td>\n",
       "      <td>No</td>\n",
       "      <td>No</td>\n",
       "      <td>Asian</td>\n",
       "      <td>0</td>\n",
       "    </tr>\n",
       "    <tr>\n",
       "      <th>392</th>\n",
       "      <td>25.974</td>\n",
       "      <td>2308</td>\n",
       "      <td>196</td>\n",
       "      <td>2</td>\n",
       "      <td>24</td>\n",
       "      <td>10</td>\n",
       "      <td>Male</td>\n",
       "      <td>No</td>\n",
       "      <td>No</td>\n",
       "      <td>Asian</td>\n",
       "      <td>0</td>\n",
       "    </tr>\n",
       "    <tr>\n",
       "      <th>393</th>\n",
       "      <td>17.316</td>\n",
       "      <td>1335</td>\n",
       "      <td>138</td>\n",
       "      <td>2</td>\n",
       "      <td>65</td>\n",
       "      <td>13</td>\n",
       "      <td>Male</td>\n",
       "      <td>No</td>\n",
       "      <td>No</td>\n",
       "      <td>African American</td>\n",
       "      <td>0</td>\n",
       "    </tr>\n",
       "    <tr>\n",
       "      <th>398</th>\n",
       "      <td>37.728</td>\n",
       "      <td>2525</td>\n",
       "      <td>192</td>\n",
       "      <td>1</td>\n",
       "      <td>44</td>\n",
       "      <td>13</td>\n",
       "      <td>Male</td>\n",
       "      <td>No</td>\n",
       "      <td>Yes</td>\n",
       "      <td>Caucasian</td>\n",
       "      <td>0</td>\n",
       "    </tr>\n",
       "  </tbody>\n",
       "</table>\n",
       "<p>90 rows × 11 columns</p>\n",
       "</div>"
      ],
      "text/plain": [
       "     Income  Limit  Rating  Cards  Age  Education  Gender Student Married  \\\n",
       "11   15.045   1311     138      3   64         16    Male      No      No   \n",
       "15   20.089   2525     200      3   57         15  Female      No     Yes   \n",
       "16   53.598   3714     286      3   73         17  Female      No     Yes   \n",
       "22   20.103   2631     213      3   61         10    Male      No     Yes   \n",
       "24   10.742   1757     156      3   57         15  Female      No      No   \n",
       "..      ...    ...     ...    ...  ...        ...     ...     ...     ...   \n",
       "384  20.088   1870     180      3   76         16    Male      No      No   \n",
       "387  16.529   1357     126      3   62          9    Male      No      No   \n",
       "392  25.974   2308     196      2   24         10    Male      No      No   \n",
       "393  17.316   1335     138      2   65         13    Male      No      No   \n",
       "398  37.728   2525     192      1   44         13    Male      No     Yes   \n",
       "\n",
       "            Ethnicity  Balance  \n",
       "11          Caucasian        0  \n",
       "15   African American        0  \n",
       "16   African American        0  \n",
       "22   African American        0  \n",
       "24          Caucasian        0  \n",
       "..                ...      ...  \n",
       "384  African American        0  \n",
       "387             Asian        0  \n",
       "392             Asian        0  \n",
       "393  African American        0  \n",
       "398         Caucasian        0  \n",
       "\n",
       "[90 rows x 11 columns]"
      ]
     },
     "execution_count": 11,
     "metadata": {},
     "output_type": "execute_result"
    }
   ],
   "source": [
    "df[df.Balance==0]"
   ]
  },
  {
   "cell_type": "code",
   "execution_count": 12,
   "id": "applied-stylus",
   "metadata": {},
   "outputs": [
    {
     "data": {
      "text/plain": [
       "<AxesSubplot:xlabel='Balance', ylabel='Density'>"
      ]
     },
     "execution_count": 12,
     "metadata": {},
     "output_type": "execute_result"
    },
    {
     "data": {
      "image/png": "[encoded data removed]",
      "text/plain": [
       "<Figure size 432x288 with 1 Axes>"
      ]
     },
     "metadata": {
      "needs_background": "light"
     },
     "output_type": "display_data"
    }
   ],
   "source": [
    "#Again plotting a histogram to analyse a pattern. \n",
    "active_credit_df = df.loc[df.Balance>0] \n",
    "sns.distplot(active_credit_df.Balance)"
   ]
  },
  {
   "cell_type": "markdown",
   "id": "accessible-conference",
   "metadata": {},
   "source": [
    "Without the zero Balances, the curve resembles a normal distribution."
   ]
  },
  {
   "cell_type": "code",
   "execution_count": 13,
   "id": "temporal-printing",
   "metadata": {},
   "outputs": [
    {
     "data": {
      "text/plain": [
       "<AxesSubplot:xlabel='Ethnicity', ylabel='Balance'>"
      ]
     },
     "execution_count": 13,
     "metadata": {},
     "output_type": "execute_result"
    },
    {
     "data": {
      "image/png": "[encoded data removed]",
      "text/plain": [
       "<Figure size 432x288 with 1 Axes>"
      ]
     },
     "metadata": {
      "needs_background": "light"
     },
     "output_type": "display_data"
    }
   ],
   "source": [
    "sns.boxplot(x='Ethnicity',y ='Balance',data = df)"
   ]
  },
  {
   "cell_type": "code",
   "execution_count": 14,
   "id": "exceptional-christianity",
   "metadata": {},
   "outputs": [
    {
     "data": {
      "text/plain": [
       "<AxesSubplot:xlabel='Student', ylabel='Balance'>"
      ]
     },
     "execution_count": 14,
     "metadata": {},
     "output_type": "execute_result"
    },
    {
     "data": {
      "image/png": "[encoded data removed]",
      "text/plain": [
       "<Figure size 432x288 with 1 Axes>"
      ]
     },
     "metadata": {
      "needs_background": "light"
     },
     "output_type": "display_data"
    }
   ],
   "source": [
    "sns.boxplot(x='Student', y='Balance', data = df)"
   ]
  },
  {
   "cell_type": "markdown",
   "id": "divine-target",
   "metadata": {},
   "source": [
    "Students display on average higher credit card Balances. We infer that Students have a higher need for financing due to student loans and have generally lower personal income. Moreover, we could presume that students tend to have less control over their finances and their financial flexibility may be lower."
   ]
  },
  {
   "cell_type": "code",
   "execution_count": 15,
   "id": "generous-evanescence",
   "metadata": {},
   "outputs": [
    {
     "data": {
      "text/plain": [
       "<AxesSubplot:xlabel='Married', ylabel='Balance'>"
      ]
     },
     "execution_count": 15,
     "metadata": {},
     "output_type": "execute_result"
    },
    {
     "data": {
      "image/png": "[encoded data removed]",
      "text/plain": [
       "<Figure size 432x288 with 1 Axes>"
      ]
     },
     "metadata": {
      "needs_background": "light"
     },
     "output_type": "display_data"
    }
   ],
   "source": [
    "sns.boxplot(x='Married', y='Balance', data = df)"
   ]
  },
  {
   "cell_type": "code",
   "execution_count": 16,
   "id": "industrial-category",
   "metadata": {},
   "outputs": [
    {
     "data": {
      "text/plain": [
       "<AxesSubplot:xlabel='Education', ylabel='Density'>"
      ]
     },
     "execution_count": 16,
     "metadata": {},
     "output_type": "execute_result"
    },
    {
     "data": {
      "image/png": "[encoded data removed]",
      "text/plain": [
       "<Figure size 432x288 with 1 Axes>"
      ]
     },
     "metadata": {
      "needs_background": "light"
     },
     "output_type": "display_data"
    }
   ],
   "source": [
    "sns.distplot(df.Education)"
   ]
  },
  {
   "cell_type": "code",
   "execution_count": 17,
   "id": "transsexual-specification",
   "metadata": {},
   "outputs": [
    {
     "data": {
      "text/plain": [
       "<AxesSubplot:xlabel='Balance', ylabel='Limit'>"
      ]
     },
     "execution_count": 17,
     "metadata": {},
     "output_type": "execute_result"
    },
    {
     "data": {
      "image/png": "[encoded data removed]",
      "text/plain": [
       "<Figure size 432x288 with 1 Axes>"
      ]
     },
     "metadata": {
      "needs_background": "light"
     },
     "output_type": "display_data"
    }
   ],
   "source": [
    "sns.scatterplot(x =df.Balance,y=df.Limit,hue = df.Married)"
   ]
  },
  {
   "cell_type": "code",
   "execution_count": 18,
   "id": "modern-contributor",
   "metadata": {},
   "outputs": [
    {
     "data": {
      "text/plain": [
       "<AxesSubplot:xlabel='Balance', ylabel='Rating'>"
      ]
     },
     "execution_count": 18,
     "metadata": {},
     "output_type": "execute_result"
    },
    {
     "data": {
      "image/png": "[encoded data removed]",
      "text/plain": [
       "<Figure size 432x288 with 1 Axes>"
      ]
     },
     "metadata": {
      "needs_background": "light"
     },
     "output_type": "display_data"
    }
   ],
   "source": [
    "sns.scatterplot(x =df.Balance,y=df.Rating,hue = df.Student)"
   ]
  },
  {
   "cell_type": "markdown",
   "id": "southwest-dakota",
   "metadata": {},
   "source": [
    "## Using Encoder\n",
    "### To convert categorical features into continuous features. This step is necessary for different statistical tools, transformation and model."
   ]
  },
  {
   "cell_type": "code",
   "execution_count": 19,
   "id": "russian-expense",
   "metadata": {},
   "outputs": [],
   "source": [
    "from sklearn import preprocessing\n",
    "\n",
    "encoder = preprocessing.LabelEncoder()\n",
    "\n",
    "for i in df.columns:\n",
    "    if isinstance(df[i][0], str):\n",
    "            df[i] = encoder.fit_transform(df[i])  "
   ]
  },
  {
   "cell_type": "code",
   "execution_count": 20,
   "id": "colored-hungarian",
   "metadata": {},
   "outputs": [
    {
     "data": {
      "text/html": [
       "<div>\n",
       "<style scoped>\n",
       "    .dataframe tbody tr th:only-of-type {\n",
       "        vertical-align: middle;\n",
       "    }\n",
       "\n",
       "    .dataframe tbody tr th {\n",
       "        vertical-align: top;\n",
       "    }\n",
       "\n",
       "    .dataframe thead th {\n",
       "        text-align: right;\n",
       "    }\n",
       "</style>\n",
       "<table border=\"1\" class=\"dataframe\">\n",
       "  <thead>\n",
       "    <tr style=\"text-align: right;\">\n",
       "      <th></th>\n",
       "      <th>Income</th>\n",
       "      <th>Limit</th>\n",
       "      <th>Rating</th>\n",
       "      <th>Cards</th>\n",
       "      <th>Age</th>\n",
       "      <th>Education</th>\n",
       "      <th>Gender</th>\n",
       "      <th>Student</th>\n",
       "      <th>Married</th>\n",
       "      <th>Ethnicity</th>\n",
       "      <th>Balance</th>\n",
       "    </tr>\n",
       "  </thead>\n",
       "  <tbody>\n",
       "    <tr>\n",
       "      <th>0</th>\n",
       "      <td>14.891</td>\n",
       "      <td>3606</td>\n",
       "      <td>283</td>\n",
       "      <td>2</td>\n",
       "      <td>34</td>\n",
       "      <td>11</td>\n",
       "      <td>0</td>\n",
       "      <td>0</td>\n",
       "      <td>1</td>\n",
       "      <td>2</td>\n",
       "      <td>333</td>\n",
       "    </tr>\n",
       "    <tr>\n",
       "      <th>1</th>\n",
       "      <td>106.025</td>\n",
       "      <td>6645</td>\n",
       "      <td>483</td>\n",
       "      <td>3</td>\n",
       "      <td>82</td>\n",
       "      <td>15</td>\n",
       "      <td>1</td>\n",
       "      <td>1</td>\n",
       "      <td>1</td>\n",
       "      <td>1</td>\n",
       "      <td>903</td>\n",
       "    </tr>\n",
       "    <tr>\n",
       "      <th>2</th>\n",
       "      <td>104.593</td>\n",
       "      <td>7075</td>\n",
       "      <td>514</td>\n",
       "      <td>4</td>\n",
       "      <td>71</td>\n",
       "      <td>11</td>\n",
       "      <td>0</td>\n",
       "      <td>0</td>\n",
       "      <td>0</td>\n",
       "      <td>1</td>\n",
       "      <td>580</td>\n",
       "    </tr>\n",
       "    <tr>\n",
       "      <th>3</th>\n",
       "      <td>148.924</td>\n",
       "      <td>9504</td>\n",
       "      <td>681</td>\n",
       "      <td>3</td>\n",
       "      <td>36</td>\n",
       "      <td>11</td>\n",
       "      <td>1</td>\n",
       "      <td>0</td>\n",
       "      <td>0</td>\n",
       "      <td>1</td>\n",
       "      <td>964</td>\n",
       "    </tr>\n",
       "    <tr>\n",
       "      <th>4</th>\n",
       "      <td>55.882</td>\n",
       "      <td>4897</td>\n",
       "      <td>357</td>\n",
       "      <td>2</td>\n",
       "      <td>68</td>\n",
       "      <td>16</td>\n",
       "      <td>0</td>\n",
       "      <td>0</td>\n",
       "      <td>1</td>\n",
       "      <td>2</td>\n",
       "      <td>331</td>\n",
       "    </tr>\n",
       "  </tbody>\n",
       "</table>\n",
       "</div>"
      ],
      "text/plain": [
       "    Income  Limit  Rating  Cards  Age  Education  Gender  Student  Married  \\\n",
       "0   14.891   3606     283      2   34         11       0        0        1   \n",
       "1  106.025   6645     483      3   82         15       1        1        1   \n",
       "2  104.593   7075     514      4   71         11       0        0        0   \n",
       "3  148.924   9504     681      3   36         11       1        0        0   \n",
       "4   55.882   4897     357      2   68         16       0        0        1   \n",
       "\n",
       "   Ethnicity  Balance  \n",
       "0          2      333  \n",
       "1          1      903  \n",
       "2          1      580  \n",
       "3          1      964  \n",
       "4          2      331  "
      ]
     },
     "execution_count": 20,
     "metadata": {},
     "output_type": "execute_result"
    }
   ],
   "source": [
    "df.head()"
   ]
  },
  {
   "cell_type": "code",
   "execution_count": 21,
   "id": "corporate-words",
   "metadata": {},
   "outputs": [
    {
     "data": {
      "text/plain": [
       "const         74.953032\n",
       "Income        10.723751\n",
       "Limit        253.809688\n",
       "Rating       237.636870\n",
       "Cards          1.508644\n",
       "Age            1.060571\n",
       "Education      1.020678\n",
       "Gender         1.008132\n",
       "Student        2.754676\n",
       "Married        1.033965\n",
       "Ethnicity      1.008333\n",
       "Balance       22.214311\n",
       "dtype: float64"
      ]
     },
     "execution_count": 21,
     "metadata": {},
     "output_type": "execute_result"
    }
   ],
   "source": [
    "from statsmodels.stats.outliers_influence import variance_inflation_factor\n",
    "from statsmodels.tools.tools import add_constant\n",
    "\n",
    "X_vif = add_constant(df)\n",
    "\n",
    "pd.Series([variance_inflation_factor(X_vif.values, i) \n",
    "               for i in range(X_vif.shape[1])], \n",
    "              index=X_vif.columns)"
   ]
  },
  {
   "cell_type": "markdown",
   "id": "accessible-helicopter",
   "metadata": {},
   "source": [
    "### A variance inflation factor (VIF) provides a measure of multicollinearity among the independent variables in a multiple regression model.\n",
    "### Detecting multicollinearity is important because while multicollinearity does not reduce the explanatory power of the model, it does reduce the statistical significance of the independent variables.\n",
    "### A large variance inflation factor (VIF) on an independent variable indicates a highly collinear relationship to the other variables that should be considered or adjusted for in the structure of the model and selection of independent variables.\n",
    "### As we can see Limit and Rating have high Variance Inflation factor, we can drop one of them from our features. But for now let us do some more analysis on the features."
   ]
  },
  {
   "cell_type": "markdown",
   "id": "persistent-moses",
   "metadata": {},
   "source": [
    "# Pairwise correlations"
   ]
  },
  {
   "cell_type": "markdown",
   "id": "early-bailey",
   "metadata": {},
   "source": [
    "A correlation matrix will be created in order to visualize the relationships among the numerical predictors and the target of inference."
   ]
  },
  {
   "cell_type": "code",
   "execution_count": 22,
   "id": "disabled-surgeon",
   "metadata": {},
   "outputs": [
    {
     "data": {
      "image/png": "[encoded data removed]",
      "text/plain": [
       "<Figure size 864x576 with 2 Axes>"
      ]
     },
     "metadata": {
      "needs_background": "light"
     },
     "output_type": "display_data"
    }
   ],
   "source": [
    "corrmat = df.corr()\n",
    "top_corr_features = corrmat.index\n",
    "plt.figure(figsize=(12,8))\n",
    "#plot heat map\n",
    "g=sns.heatmap(df[top_corr_features].corr(),annot=True,cmap=\"RdYlGn\")"
   ]
  },
  {
   "cell_type": "code",
   "execution_count": 23,
   "id": "related-maryland",
   "metadata": {},
   "outputs": [
    {
     "data": {
      "text/plain": [
       "<AxesSubplot:xlabel='Limit', ylabel='Rating'>"
      ]
     },
     "execution_count": 23,
     "metadata": {},
     "output_type": "execute_result"
    },
    {
     "data": {
      "image/png": "[encoded data removed]",
      "text/plain": [
       "<Figure size 432x288 with 1 Axes>"
      ]
     },
     "metadata": {
      "needs_background": "light"
     },
     "output_type": "display_data"
    }
   ],
   "source": [
    "sns.regplot(x='Limit',\n",
    "           y='Rating',\n",
    "           data=df,\n",
    "           scatter_kws={'alpha':0.2},\n",
    "           line_kws={'color':'black'})"
   ]
  },
  {
   "cell_type": "markdown",
   "id": "nutritional-geology",
   "metadata": {},
   "source": [
    "From correlation coefficients we can see that Features like Income, LIMIT, Rating, Cards, Gender, Student have comparatively high correlation coefficients.\n",
    "\n",
    "Further more we can see that LIMIT and RATING have correlation coefficient as 1. We can drop one of them to remove the multi-collinearity in our features."
   ]
  },
  {
   "cell_type": "markdown",
   "id": "ethical-newspaper",
   "metadata": {},
   "source": [
    "# Preparing Data for modelling"
   ]
  },
  {
   "cell_type": "code",
   "execution_count": 24,
   "id": "early-recommendation",
   "metadata": {},
   "outputs": [],
   "source": [
    "df = df.loc[(df['Balance']!=0)]"
   ]
  },
  {
   "cell_type": "code",
   "execution_count": 25,
   "id": "right-numbers",
   "metadata": {},
   "outputs": [],
   "source": [
    "X= df.drop(['Balance','Limit','Age','Education','Gender','Ethnicity','Married'], axis =1)\n",
    "y= df['Balance']"
   ]
  },
  {
   "cell_type": "code",
   "execution_count": 26,
   "id": "shared-sense",
   "metadata": {},
   "outputs": [],
   "source": [
    "from sklearn.model_selection import train_test_split"
   ]
  },
  {
   "cell_type": "code",
   "execution_count": 27,
   "id": "female-toolbox",
   "metadata": {},
   "outputs": [],
   "source": [
    "X_train, X_test, y_train, y_test = train_test_split(X , y, test_size=0.3, random_state=20)"
   ]
  },
  {
   "cell_type": "code",
   "execution_count": 28,
   "id": "unlike-suspect",
   "metadata": {},
   "outputs": [],
   "source": [
    "from sklearn import preprocessing\n",
    "from sklearn.preprocessing import StandardScaler \n",
    "from pickle import dump"
   ]
  },
  {
   "cell_type": "code",
   "execution_count": 29,
   "id": "subjective-programmer",
   "metadata": {},
   "outputs": [],
   "source": [
    "from sklearn import preprocessing\n",
    "from sklearn.preprocessing import StandardScaler \n",
    "from pickle import dump\n",
    "\n",
    "def Preprocessing_step(df,flag):\n",
    "\n",
    "    scalar_feature= StandardScaler() \n",
    "    scalar_target = StandardScaler() \n",
    "  \n",
    "    scaled_data = scalar_feature.fit_transform(df)\n",
    "    df = pd.DataFrame(data=scaled_data, columns=df.columns)\n",
    "    if flag =='train':\n",
    "        dump(scalar_feature, open('scaler_feature.pkl', 'wb'))\n",
    "        \n",
    "    \n",
    "    return df\n",
    "   \n"
   ]
  },
  {
   "cell_type": "code",
   "execution_count": 30,
   "id": "psychological-cinema",
   "metadata": {
    "scrolled": false
   },
   "outputs": [
    {
     "data": {
      "text/html": [
       "<div>\n",
       "<style scoped>\n",
       "    .dataframe tbody tr th:only-of-type {\n",
       "        vertical-align: middle;\n",
       "    }\n",
       "\n",
       "    .dataframe tbody tr th {\n",
       "        vertical-align: top;\n",
       "    }\n",
       "\n",
       "    .dataframe thead th {\n",
       "        text-align: right;\n",
       "    }\n",
       "</style>\n",
       "<table border=\"1\" class=\"dataframe\">\n",
       "  <thead>\n",
       "    <tr style=\"text-align: right;\">\n",
       "      <th></th>\n",
       "      <th>Income</th>\n",
       "      <th>Rating</th>\n",
       "      <th>Cards</th>\n",
       "      <th>Student</th>\n",
       "    </tr>\n",
       "  </thead>\n",
       "  <tbody>\n",
       "    <tr>\n",
       "      <th>0</th>\n",
       "      <td>-0.921527</td>\n",
       "      <td>-0.489954</td>\n",
       "      <td>-0.648492</td>\n",
       "      <td>-0.4159</td>\n",
       "    </tr>\n",
       "    <tr>\n",
       "      <th>1</th>\n",
       "      <td>-0.316356</td>\n",
       "      <td>0.422478</td>\n",
       "      <td>-1.328312</td>\n",
       "      <td>-0.4159</td>\n",
       "    </tr>\n",
       "    <tr>\n",
       "      <th>2</th>\n",
       "      <td>-0.388894</td>\n",
       "      <td>0.379028</td>\n",
       "      <td>0.031328</td>\n",
       "      <td>-0.4159</td>\n",
       "    </tr>\n",
       "    <tr>\n",
       "      <th>3</th>\n",
       "      <td>-0.780045</td>\n",
       "      <td>0.226957</td>\n",
       "      <td>0.711148</td>\n",
       "      <td>-0.4159</td>\n",
       "    </tr>\n",
       "    <tr>\n",
       "      <th>4</th>\n",
       "      <td>0.982984</td>\n",
       "      <td>0.016952</td>\n",
       "      <td>2.070788</td>\n",
       "      <td>-0.4159</td>\n",
       "    </tr>\n",
       "    <tr>\n",
       "      <th>...</th>\n",
       "      <td>...</td>\n",
       "      <td>...</td>\n",
       "      <td>...</td>\n",
       "      <td>...</td>\n",
       "    </tr>\n",
       "    <tr>\n",
       "      <th>212</th>\n",
       "      <td>-0.905203</td>\n",
       "      <td>-0.345123</td>\n",
       "      <td>0.711148</td>\n",
       "      <td>-0.4159</td>\n",
       "    </tr>\n",
       "    <tr>\n",
       "      <th>213</th>\n",
       "      <td>0.121956</td>\n",
       "      <td>0.248681</td>\n",
       "      <td>0.711148</td>\n",
       "      <td>-0.4159</td>\n",
       "    </tr>\n",
       "    <tr>\n",
       "      <th>214</th>\n",
       "      <td>-0.874096</td>\n",
       "      <td>-0.091670</td>\n",
       "      <td>0.031328</td>\n",
       "      <td>-0.4159</td>\n",
       "    </tr>\n",
       "    <tr>\n",
       "      <th>215</th>\n",
       "      <td>2.476102</td>\n",
       "      <td>3.022183</td>\n",
       "      <td>2.750608</td>\n",
       "      <td>-0.4159</td>\n",
       "    </tr>\n",
       "    <tr>\n",
       "      <th>216</th>\n",
       "      <td>1.498050</td>\n",
       "      <td>0.777312</td>\n",
       "      <td>-0.648492</td>\n",
       "      <td>-0.4159</td>\n",
       "    </tr>\n",
       "  </tbody>\n",
       "</table>\n",
       "<p>217 rows × 4 columns</p>\n",
       "</div>"
      ],
      "text/plain": [
       "       Income    Rating     Cards  Student\n",
       "0   -0.921527 -0.489954 -0.648492  -0.4159\n",
       "1   -0.316356  0.422478 -1.328312  -0.4159\n",
       "2   -0.388894  0.379028  0.031328  -0.4159\n",
       "3   -0.780045  0.226957  0.711148  -0.4159\n",
       "4    0.982984  0.016952  2.070788  -0.4159\n",
       "..        ...       ...       ...      ...\n",
       "212 -0.905203 -0.345123  0.711148  -0.4159\n",
       "213  0.121956  0.248681  0.711148  -0.4159\n",
       "214 -0.874096 -0.091670  0.031328  -0.4159\n",
       "215  2.476102  3.022183  2.750608  -0.4159\n",
       "216  1.498050  0.777312 -0.648492  -0.4159\n",
       "\n",
       "[217 rows x 4 columns]"
      ]
     },
     "execution_count": 30,
     "metadata": {},
     "output_type": "execute_result"
    }
   ],
   "source": [
    "X_train = Preprocessing_step(X_train,'train')\n",
    "X_train"
   ]
  },
  {
   "cell_type": "code",
   "execution_count": 31,
   "id": "comparable-pledge",
   "metadata": {},
   "outputs": [],
   "source": [
    "from sklearn.linear_model import LinearRegression"
   ]
  },
  {
   "cell_type": "code",
   "execution_count": 32,
   "id": "contrary-receptor",
   "metadata": {},
   "outputs": [],
   "source": [
    "lm = LinearRegression()"
   ]
  },
  {
   "cell_type": "code",
   "execution_count": 33,
   "id": "collected-simon",
   "metadata": {},
   "outputs": [
    {
     "data": {
      "text/plain": [
       "LinearRegression()"
      ]
     },
     "execution_count": 33,
     "metadata": {},
     "output_type": "execute_result"
    }
   ],
   "source": [
    "lm.fit(X_train,y_train)"
   ]
  },
  {
   "cell_type": "code",
   "execution_count": 34,
   "id": "agreed-bicycle",
   "metadata": {},
   "outputs": [
    {
     "name": "stdout",
     "output_type": "stream",
     "text": [
      "Training accuracy= 98.27758091146812\n"
     ]
    }
   ],
   "source": [
    "print('Training accuracy=',lm.score(X_train,y_train)*100)"
   ]
  },
  {
   "cell_type": "code",
   "execution_count": 35,
   "id": "trying-scoop",
   "metadata": {},
   "outputs": [],
   "source": [
    "X_test = Preprocessing_step(X_test,'test')"
   ]
  },
  {
   "cell_type": "code",
   "execution_count": 36,
   "id": "expected-injury",
   "metadata": {},
   "outputs": [],
   "source": [
    "pred = lm.predict(X_test)"
   ]
  },
  {
   "cell_type": "code",
   "execution_count": 37,
   "id": "strong-poker",
   "metadata": {},
   "outputs": [
    {
     "name": "stdout",
     "output_type": "stream",
     "text": [
      "Prediction accuracy = 95.86360299898877\n"
     ]
    }
   ],
   "source": [
    "from sklearn import metrics\n",
    "from sklearn.metrics import accuracy_score\n",
    "print('Prediction accuracy =',metrics.explained_variance_score(y_test, pred)*100)"
   ]
  },
  {
   "cell_type": "code",
   "execution_count": 38,
   "id": "middle-evans",
   "metadata": {},
   "outputs": [
    {
     "name": "stdout",
     "output_type": "stream",
     "text": [
      "MAE: 64.81419590455181\n",
      "RMSE: 79.76093368144386\n"
     ]
    }
   ],
   "source": [
    "print('MAE:', metrics.mean_absolute_error(y_test, pred))\n",
    "print('RMSE:',np.sqrt(metrics.mean_squared_error(y_test, pred)))"
   ]
  },
  {
   "cell_type": "code",
   "execution_count": 39,
   "id": "metallic-separation",
   "metadata": {},
   "outputs": [
    {
     "data": {
      "text/plain": [
       "<matplotlib.legend.Legend at 0x2263a860250>"
      ]
     },
     "execution_count": 39,
     "metadata": {},
     "output_type": "execute_result"
    },
    {
     "data": {
      "image/png": "[encoded data removed]",
      "text/plain": [
       "<Figure size 720x432 with 1 Axes>"
      ]
     },
     "metadata": {
      "needs_background": "light"
     },
     "output_type": "display_data"
    }
   ],
   "source": [
    "fig=plt.figure(figsize=(10,6))\n",
    "plt.scatter(np.arange(1,100,10),pred[0:100:10],color='blue')\n",
    "plt.scatter(np.arange(1,100,10),y_test[0:100:10],color='yellow')\n",
    "\n",
    "plt.legend(['prediction','test'])"
   ]
  },
  {
   "cell_type": "code",
   "execution_count": 40,
   "id": "stopped-montana",
   "metadata": {},
   "outputs": [],
   "source": [
    "import pickle"
   ]
  },
  {
   "cell_type": "code",
   "execution_count": 41,
   "id": "southeast-orange",
   "metadata": {},
   "outputs": [],
   "source": [
    "import pickle\n",
    "filename = 'finalized_model.sav'\n",
    "pickle.dump(lm, open(filename, 'wb'))"
   ]
  },
  {
   "cell_type": "code",
   "execution_count": 42,
   "id": "competitive-python",
   "metadata": {},
   "outputs": [
    {
     "data": {
      "text/html": [
       "<div>\n",
       "<style scoped>\n",
       "    .dataframe tbody tr th:only-of-type {\n",
       "        vertical-align: middle;\n",
       "    }\n",
       "\n",
       "    .dataframe tbody tr th {\n",
       "        vertical-align: top;\n",
       "    }\n",
       "\n",
       "    .dataframe thead th {\n",
       "        text-align: right;\n",
       "    }\n",
       "</style>\n",
       "<table border=\"1\" class=\"dataframe\">\n",
       "  <thead>\n",
       "    <tr style=\"text-align: right;\">\n",
       "      <th></th>\n",
       "      <th>coeff</th>\n",
       "    </tr>\n",
       "  </thead>\n",
       "  <tbody>\n",
       "    <tr>\n",
       "      <th>Income</th>\n",
       "      <td>-370.991402</td>\n",
       "    </tr>\n",
       "    <tr>\n",
       "      <th>Rating</th>\n",
       "      <td>667.594793</td>\n",
       "    </tr>\n",
       "    <tr>\n",
       "      <th>Cards</th>\n",
       "      <td>3.784910</td>\n",
       "    </tr>\n",
       "    <tr>\n",
       "      <th>Student</th>\n",
       "      <td>171.337466</td>\n",
       "    </tr>\n",
       "  </tbody>\n",
       "</table>\n",
       "</div>"
      ],
      "text/plain": [
       "              coeff\n",
       "Income  -370.991402\n",
       "Rating   667.594793\n",
       "Cards      3.784910\n",
       "Student  171.337466"
      ]
     },
     "execution_count": 42,
     "metadata": {},
     "output_type": "execute_result"
    }
   ],
   "source": [
    "cdf = pd.DataFrame(lm.coef_.reshape(-1,1),X_train.columns,columns=['coeff'])\n",
    "cdf"
   ]
  },
  {
   "cell_type": "code",
   "execution_count": 43,
   "id": "graphic-sphere",
   "metadata": {},
   "outputs": [
    {
     "data": {
      "text/html": [
       "<div>\n",
       "<style scoped>\n",
       "    .dataframe tbody tr th:only-of-type {\n",
       "        vertical-align: middle;\n",
       "    }\n",
       "\n",
       "    .dataframe tbody tr th {\n",
       "        vertical-align: top;\n",
       "    }\n",
       "\n",
       "    .dataframe thead th {\n",
       "        text-align: right;\n",
       "    }\n",
       "</style>\n",
       "<table border=\"1\" class=\"dataframe\">\n",
       "  <thead>\n",
       "    <tr style=\"text-align: right;\">\n",
       "      <th></th>\n",
       "      <th>Income</th>\n",
       "      <th>Limit</th>\n",
       "      <th>Rating</th>\n",
       "      <th>Cards</th>\n",
       "      <th>Age</th>\n",
       "      <th>Education</th>\n",
       "      <th>Gender</th>\n",
       "      <th>Student</th>\n",
       "      <th>Married</th>\n",
       "      <th>Ethnicity</th>\n",
       "      <th>Balance</th>\n",
       "    </tr>\n",
       "  </thead>\n",
       "  <tbody>\n",
       "    <tr>\n",
       "      <th>349</th>\n",
       "      <td>48.577</td>\n",
       "      <td>5145</td>\n",
       "      <td>389</td>\n",
       "      <td>3</td>\n",
       "      <td>71</td>\n",
       "      <td>13</td>\n",
       "      <td>1</td>\n",
       "      <td>0</td>\n",
       "      <td>1</td>\n",
       "      <td>1</td>\n",
       "      <td>503</td>\n",
       "    </tr>\n",
       "    <tr>\n",
       "      <th>214</th>\n",
       "      <td>34.909</td>\n",
       "      <td>5289</td>\n",
       "      <td>410</td>\n",
       "      <td>2</td>\n",
       "      <td>62</td>\n",
       "      <td>16</td>\n",
       "      <td>1</td>\n",
       "      <td>0</td>\n",
       "      <td>1</td>\n",
       "      <td>2</td>\n",
       "      <td>681</td>\n",
       "    </tr>\n",
       "    <tr>\n",
       "      <th>100</th>\n",
       "      <td>21.153</td>\n",
       "      <td>3736</td>\n",
       "      <td>256</td>\n",
       "      <td>1</td>\n",
       "      <td>41</td>\n",
       "      <td>11</td>\n",
       "      <td>0</td>\n",
       "      <td>0</td>\n",
       "      <td>0</td>\n",
       "      <td>2</td>\n",
       "      <td>298</td>\n",
       "    </tr>\n",
       "    <tr>\n",
       "      <th>12</th>\n",
       "      <td>80.616</td>\n",
       "      <td>5308</td>\n",
       "      <td>394</td>\n",
       "      <td>1</td>\n",
       "      <td>57</td>\n",
       "      <td>7</td>\n",
       "      <td>1</td>\n",
       "      <td>0</td>\n",
       "      <td>1</td>\n",
       "      <td>1</td>\n",
       "      <td>204</td>\n",
       "    </tr>\n",
       "    <tr>\n",
       "      <th>6</th>\n",
       "      <td>20.996</td>\n",
       "      <td>3388</td>\n",
       "      <td>259</td>\n",
       "      <td>2</td>\n",
       "      <td>37</td>\n",
       "      <td>12</td>\n",
       "      <td>1</td>\n",
       "      <td>0</td>\n",
       "      <td>0</td>\n",
       "      <td>0</td>\n",
       "      <td>203</td>\n",
       "    </tr>\n",
       "    <tr>\n",
       "      <th>246</th>\n",
       "      <td>19.588</td>\n",
       "      <td>3211</td>\n",
       "      <td>265</td>\n",
       "      <td>4</td>\n",
       "      <td>59</td>\n",
       "      <td>14</td>\n",
       "      <td>1</td>\n",
       "      <td>0</td>\n",
       "      <td>0</td>\n",
       "      <td>1</td>\n",
       "      <td>199</td>\n",
       "    </tr>\n",
       "    <tr>\n",
       "      <th>165</th>\n",
       "      <td>25.383</td>\n",
       "      <td>4527</td>\n",
       "      <td>367</td>\n",
       "      <td>4</td>\n",
       "      <td>46</td>\n",
       "      <td>11</td>\n",
       "      <td>0</td>\n",
       "      <td>0</td>\n",
       "      <td>1</td>\n",
       "      <td>2</td>\n",
       "      <td>570</td>\n",
       "    </tr>\n",
       "    <tr>\n",
       "      <th>327</th>\n",
       "      <td>49.166</td>\n",
       "      <td>6662</td>\n",
       "      <td>508</td>\n",
       "      <td>3</td>\n",
       "      <td>68</td>\n",
       "      <td>14</td>\n",
       "      <td>1</td>\n",
       "      <td>0</td>\n",
       "      <td>0</td>\n",
       "      <td>1</td>\n",
       "      <td>984</td>\n",
       "    </tr>\n",
       "    <tr>\n",
       "      <th>5</th>\n",
       "      <td>80.180</td>\n",
       "      <td>8047</td>\n",
       "      <td>569</td>\n",
       "      <td>4</td>\n",
       "      <td>77</td>\n",
       "      <td>10</td>\n",
       "      <td>0</td>\n",
       "      <td>0</td>\n",
       "      <td>0</td>\n",
       "      <td>2</td>\n",
       "      <td>1151</td>\n",
       "    </tr>\n",
       "    <tr>\n",
       "      <th>209</th>\n",
       "      <td>151.947</td>\n",
       "      <td>9156</td>\n",
       "      <td>642</td>\n",
       "      <td>2</td>\n",
       "      <td>91</td>\n",
       "      <td>11</td>\n",
       "      <td>1</td>\n",
       "      <td>0</td>\n",
       "      <td>1</td>\n",
       "      <td>0</td>\n",
       "      <td>732</td>\n",
       "    </tr>\n",
       "    <tr>\n",
       "      <th>239</th>\n",
       "      <td>27.952</td>\n",
       "      <td>3557</td>\n",
       "      <td>263</td>\n",
       "      <td>1</td>\n",
       "      <td>35</td>\n",
       "      <td>13</td>\n",
       "      <td>1</td>\n",
       "      <td>0</td>\n",
       "      <td>1</td>\n",
       "      <td>1</td>\n",
       "      <td>163</td>\n",
       "    </tr>\n",
       "    <tr>\n",
       "      <th>207</th>\n",
       "      <td>10.842</td>\n",
       "      <td>4391</td>\n",
       "      <td>358</td>\n",
       "      <td>5</td>\n",
       "      <td>37</td>\n",
       "      <td>10</td>\n",
       "      <td>1</td>\n",
       "      <td>1</td>\n",
       "      <td>1</td>\n",
       "      <td>2</td>\n",
       "      <td>1216</td>\n",
       "    </tr>\n",
       "    <tr>\n",
       "      <th>49</th>\n",
       "      <td>43.479</td>\n",
       "      <td>4569</td>\n",
       "      <td>354</td>\n",
       "      <td>4</td>\n",
       "      <td>49</td>\n",
       "      <td>13</td>\n",
       "      <td>0</td>\n",
       "      <td>1</td>\n",
       "      <td>1</td>\n",
       "      <td>0</td>\n",
       "      <td>902</td>\n",
       "    </tr>\n",
       "    <tr>\n",
       "      <th>104</th>\n",
       "      <td>15.846</td>\n",
       "      <td>4768</td>\n",
       "      <td>365</td>\n",
       "      <td>4</td>\n",
       "      <td>53</td>\n",
       "      <td>12</td>\n",
       "      <td>1</td>\n",
       "      <td>0</td>\n",
       "      <td>0</td>\n",
       "      <td>2</td>\n",
       "      <td>745</td>\n",
       "    </tr>\n",
       "    <tr>\n",
       "      <th>370</th>\n",
       "      <td>35.610</td>\n",
       "      <td>6135</td>\n",
       "      <td>466</td>\n",
       "      <td>4</td>\n",
       "      <td>40</td>\n",
       "      <td>12</td>\n",
       "      <td>0</td>\n",
       "      <td>0</td>\n",
       "      <td>0</td>\n",
       "      <td>2</td>\n",
       "      <td>992</td>\n",
       "    </tr>\n",
       "    <tr>\n",
       "      <th>227</th>\n",
       "      <td>66.989</td>\n",
       "      <td>5614</td>\n",
       "      <td>430</td>\n",
       "      <td>3</td>\n",
       "      <td>47</td>\n",
       "      <td>14</td>\n",
       "      <td>1</td>\n",
       "      <td>0</td>\n",
       "      <td>1</td>\n",
       "      <td>2</td>\n",
       "      <td>482</td>\n",
       "    </tr>\n",
       "    <tr>\n",
       "      <th>150</th>\n",
       "      <td>63.931</td>\n",
       "      <td>5728</td>\n",
       "      <td>435</td>\n",
       "      <td>3</td>\n",
       "      <td>28</td>\n",
       "      <td>14</td>\n",
       "      <td>1</td>\n",
       "      <td>0</td>\n",
       "      <td>1</td>\n",
       "      <td>0</td>\n",
       "      <td>581</td>\n",
       "    </tr>\n",
       "    <tr>\n",
       "      <th>353</th>\n",
       "      <td>41.868</td>\n",
       "      <td>4716</td>\n",
       "      <td>342</td>\n",
       "      <td>2</td>\n",
       "      <td>47</td>\n",
       "      <td>18</td>\n",
       "      <td>0</td>\n",
       "      <td>0</td>\n",
       "      <td>0</td>\n",
       "      <td>2</td>\n",
       "      <td>425</td>\n",
       "    </tr>\n",
       "    <tr>\n",
       "      <th>220</th>\n",
       "      <td>44.847</td>\n",
       "      <td>5765</td>\n",
       "      <td>437</td>\n",
       "      <td>3</td>\n",
       "      <td>53</td>\n",
       "      <td>13</td>\n",
       "      <td>1</td>\n",
       "      <td>1</td>\n",
       "      <td>0</td>\n",
       "      <td>1</td>\n",
       "      <td>1246</td>\n",
       "    </tr>\n",
       "    <tr>\n",
       "      <th>313</th>\n",
       "      <td>92.386</td>\n",
       "      <td>7685</td>\n",
       "      <td>534</td>\n",
       "      <td>2</td>\n",
       "      <td>75</td>\n",
       "      <td>18</td>\n",
       "      <td>1</td>\n",
       "      <td>0</td>\n",
       "      <td>1</td>\n",
       "      <td>1</td>\n",
       "      <td>843</td>\n",
       "    </tr>\n",
       "  </tbody>\n",
       "</table>\n",
       "</div>"
      ],
      "text/plain": [
       "      Income  Limit  Rating  Cards  Age  Education  Gender  Student  Married  \\\n",
       "349   48.577   5145     389      3   71         13       1        0        1   \n",
       "214   34.909   5289     410      2   62         16       1        0        1   \n",
       "100   21.153   3736     256      1   41         11       0        0        0   \n",
       "12    80.616   5308     394      1   57          7       1        0        1   \n",
       "6     20.996   3388     259      2   37         12       1        0        0   \n",
       "246   19.588   3211     265      4   59         14       1        0        0   \n",
       "165   25.383   4527     367      4   46         11       0        0        1   \n",
       "327   49.166   6662     508      3   68         14       1        0        0   \n",
       "5     80.180   8047     569      4   77         10       0        0        0   \n",
       "209  151.947   9156     642      2   91         11       1        0        1   \n",
       "239   27.952   3557     263      1   35         13       1        0        1   \n",
       "207   10.842   4391     358      5   37         10       1        1        1   \n",
       "49    43.479   4569     354      4   49         13       0        1        1   \n",
       "104   15.846   4768     365      4   53         12       1        0        0   \n",
       "370   35.610   6135     466      4   40         12       0        0        0   \n",
       "227   66.989   5614     430      3   47         14       1        0        1   \n",
       "150   63.931   5728     435      3   28         14       1        0        1   \n",
       "353   41.868   4716     342      2   47         18       0        0        0   \n",
       "220   44.847   5765     437      3   53         13       1        1        0   \n",
       "313   92.386   7685     534      2   75         18       1        0        1   \n",
       "\n",
       "     Ethnicity  Balance  \n",
       "349          1      503  \n",
       "214          2      681  \n",
       "100          2      298  \n",
       "12           1      204  \n",
       "6            0      203  \n",
       "246          1      199  \n",
       "165          2      570  \n",
       "327          1      984  \n",
       "5            2     1151  \n",
       "209          0      732  \n",
       "239          1      163  \n",
       "207          2     1216  \n",
       "49           0      902  \n",
       "104          2      745  \n",
       "370          2      992  \n",
       "227          2      482  \n",
       "150          0      581  \n",
       "353          2      425  \n",
       "220          1     1246  \n",
       "313          1      843  "
      ]
     },
     "execution_count": 43,
     "metadata": {},
     "output_type": "execute_result"
    }
   ],
   "source": [
    "dummy_set = df.sample(n = 20, replace = False)\n",
    "dummy_set"
   ]
  },
  {
   "cell_type": "code",
   "execution_count": 44,
   "id": "ambient-crawford",
   "metadata": {},
   "outputs": [],
   "source": [
    "X1 = dummy_set.drop(['Balance','Limit','Age','Education','Gender','Ethnicity','Married'],axis =1)\n",
    "y1= dummy_set['Balance']"
   ]
  },
  {
   "cell_type": "code",
   "execution_count": 45,
   "id": "israeli-trash",
   "metadata": {},
   "outputs": [
    {
     "data": {
      "text/html": [
       "<div>\n",
       "<style scoped>\n",
       "    .dataframe tbody tr th:only-of-type {\n",
       "        vertical-align: middle;\n",
       "    }\n",
       "\n",
       "    .dataframe tbody tr th {\n",
       "        vertical-align: top;\n",
       "    }\n",
       "\n",
       "    .dataframe thead th {\n",
       "        text-align: right;\n",
       "    }\n",
       "</style>\n",
       "<table border=\"1\" class=\"dataframe\">\n",
       "  <thead>\n",
       "    <tr style=\"text-align: right;\">\n",
       "      <th></th>\n",
       "      <th>Income</th>\n",
       "      <th>Rating</th>\n",
       "      <th>Cards</th>\n",
       "      <th>Student</th>\n",
       "    </tr>\n",
       "  </thead>\n",
       "  <tbody>\n",
       "    <tr>\n",
       "      <th>0</th>\n",
       "      <td>0.433555</td>\n",
       "      <td>-0.086711</td>\n",
       "      <td>0.130189</td>\n",
       "      <td>-0.420084</td>\n",
       "    </tr>\n",
       "    <tr>\n",
       "      <th>1</th>\n",
       "      <td>-0.433555</td>\n",
       "      <td>0.260133</td>\n",
       "      <td>-0.737737</td>\n",
       "      <td>-0.420084</td>\n",
       "    </tr>\n",
       "    <tr>\n",
       "      <th>2</th>\n",
       "      <td>-0.953821</td>\n",
       "      <td>-1.647509</td>\n",
       "      <td>-1.605663</td>\n",
       "      <td>-0.420084</td>\n",
       "    </tr>\n",
       "    <tr>\n",
       "      <th>3</th>\n",
       "      <td>1.300665</td>\n",
       "      <td>0.086711</td>\n",
       "      <td>-1.605663</td>\n",
       "      <td>-0.420084</td>\n",
       "    </tr>\n",
       "    <tr>\n",
       "      <th>4</th>\n",
       "      <td>-1.127243</td>\n",
       "      <td>-1.474087</td>\n",
       "      <td>-0.737737</td>\n",
       "      <td>-0.420084</td>\n",
       "    </tr>\n",
       "  </tbody>\n",
       "</table>\n",
       "</div>"
      ],
      "text/plain": [
       "     Income    Rating     Cards   Student\n",
       "0  0.433555 -0.086711  0.130189 -0.420084\n",
       "1 -0.433555  0.260133 -0.737737 -0.420084\n",
       "2 -0.953821 -1.647509 -1.605663 -0.420084\n",
       "3  1.300665  0.086711 -1.605663 -0.420084\n",
       "4 -1.127243 -1.474087 -0.737737 -0.420084"
      ]
     },
     "execution_count": 45,
     "metadata": {},
     "output_type": "execute_result"
    }
   ],
   "source": [
    "encoder = preprocessing.LabelEncoder()\n",
    "\n",
    "X1= X1.apply(encoder.fit_transform)\n",
    "scalar = pickle.load(open('scaler_feature.pkl', 'rb'))\n",
    "scalar.fit(X1) \n",
    "scaled_data = scalar.transform(X1)\n",
    "    \n",
    "X1 = pd.DataFrame(data=scaled_data, columns=X1.columns)\n",
    "\n",
    "X1.head() "
   ]
  },
  {
   "cell_type": "code",
   "execution_count": 46,
   "id": "defensive-justice",
   "metadata": {},
   "outputs": [],
   "source": [
    "import pickle\n",
    "filename = 'finalized_model.sav'\n",
    "lm = pickle.load(open(filename, 'rb'))"
   ]
  },
  {
   "cell_type": "code",
   "execution_count": 47,
   "id": "fatal-constitutional",
   "metadata": {},
   "outputs": [
    {
     "data": {
      "text/plain": [
       "array([ 373.92649637,  923.8830576 , -159.91958005,  161.44172835,\n",
       "         23.47913112,  325.9384848 ,  711.80237936, 1120.01776852,\n",
       "       1161.83982511, 1078.03119444,  -57.04447716, 1285.06738742,\n",
       "        522.62605818,  853.37903394, 1329.21751416,  528.2391507 ,\n",
       "        708.35283949,  -15.22242057, 1496.98354818,  910.81802288])"
      ]
     },
     "execution_count": 47,
     "metadata": {},
     "output_type": "execute_result"
    }
   ],
   "source": [
    "pred = lm.predict(X1)\n",
    "pred"
   ]
  },
  {
   "cell_type": "code",
   "execution_count": 48,
   "id": "through-pastor",
   "metadata": {},
   "outputs": [],
   "source": [
    "pred = pd.DataFrame(pred, columns =[\"predicted V\"])\n",
    "y_test = pd.Series(y1).reset_index().drop(['index'],axis=1)"
   ]
  },
  {
   "cell_type": "code",
   "execution_count": 49,
   "id": "virgin-reason",
   "metadata": {},
   "outputs": [
    {
     "data": {
      "text/html": [
       "<div>\n",
       "<style scoped>\n",
       "    .dataframe tbody tr th:only-of-type {\n",
       "        vertical-align: middle;\n",
       "    }\n",
       "\n",
       "    .dataframe tbody tr th {\n",
       "        vertical-align: top;\n",
       "    }\n",
       "\n",
       "    .dataframe thead th {\n",
       "        text-align: right;\n",
       "    }\n",
       "</style>\n",
       "<table border=\"1\" class=\"dataframe\">\n",
       "  <thead>\n",
       "    <tr style=\"text-align: right;\">\n",
       "      <th></th>\n",
       "      <th>predicted V</th>\n",
       "      <th>Balance</th>\n",
       "    </tr>\n",
       "  </thead>\n",
       "  <tbody>\n",
       "    <tr>\n",
       "      <th>0</th>\n",
       "      <td>373.926496</td>\n",
       "      <td>503</td>\n",
       "    </tr>\n",
       "    <tr>\n",
       "      <th>1</th>\n",
       "      <td>923.883058</td>\n",
       "      <td>681</td>\n",
       "    </tr>\n",
       "    <tr>\n",
       "      <th>2</th>\n",
       "      <td>-159.919580</td>\n",
       "      <td>298</td>\n",
       "    </tr>\n",
       "    <tr>\n",
       "      <th>3</th>\n",
       "      <td>161.441728</td>\n",
       "      <td>204</td>\n",
       "    </tr>\n",
       "    <tr>\n",
       "      <th>4</th>\n",
       "      <td>23.479131</td>\n",
       "      <td>203</td>\n",
       "    </tr>\n",
       "    <tr>\n",
       "      <th>5</th>\n",
       "      <td>325.938485</td>\n",
       "      <td>199</td>\n",
       "    </tr>\n",
       "    <tr>\n",
       "      <th>6</th>\n",
       "      <td>711.802379</td>\n",
       "      <td>570</td>\n",
       "    </tr>\n",
       "    <tr>\n",
       "      <th>7</th>\n",
       "      <td>1120.017769</td>\n",
       "      <td>984</td>\n",
       "    </tr>\n",
       "    <tr>\n",
       "      <th>8</th>\n",
       "      <td>1161.839825</td>\n",
       "      <td>1151</td>\n",
       "    </tr>\n",
       "    <tr>\n",
       "      <th>9</th>\n",
       "      <td>1078.031194</td>\n",
       "      <td>732</td>\n",
       "    </tr>\n",
       "    <tr>\n",
       "      <th>10</th>\n",
       "      <td>-57.044477</td>\n",
       "      <td>163</td>\n",
       "    </tr>\n",
       "    <tr>\n",
       "      <th>11</th>\n",
       "      <td>1285.067387</td>\n",
       "      <td>1216</td>\n",
       "    </tr>\n",
       "    <tr>\n",
       "      <th>12</th>\n",
       "      <td>522.626058</td>\n",
       "      <td>902</td>\n",
       "    </tr>\n",
       "    <tr>\n",
       "      <th>13</th>\n",
       "      <td>853.379034</td>\n",
       "      <td>745</td>\n",
       "    </tr>\n",
       "    <tr>\n",
       "      <th>14</th>\n",
       "      <td>1329.217514</td>\n",
       "      <td>992</td>\n",
       "    </tr>\n",
       "    <tr>\n",
       "      <th>15</th>\n",
       "      <td>528.239151</td>\n",
       "      <td>482</td>\n",
       "    </tr>\n",
       "    <tr>\n",
       "      <th>16</th>\n",
       "      <td>708.352839</td>\n",
       "      <td>581</td>\n",
       "    </tr>\n",
       "    <tr>\n",
       "      <th>17</th>\n",
       "      <td>-15.222421</td>\n",
       "      <td>425</td>\n",
       "    </tr>\n",
       "    <tr>\n",
       "      <th>18</th>\n",
       "      <td>1496.983548</td>\n",
       "      <td>1246</td>\n",
       "    </tr>\n",
       "    <tr>\n",
       "      <th>19</th>\n",
       "      <td>910.818023</td>\n",
       "      <td>843</td>\n",
       "    </tr>\n",
       "  </tbody>\n",
       "</table>\n",
       "</div>"
      ],
      "text/plain": [
       "    predicted V  Balance\n",
       "0    373.926496      503\n",
       "1    923.883058      681\n",
       "2   -159.919580      298\n",
       "3    161.441728      204\n",
       "4     23.479131      203\n",
       "5    325.938485      199\n",
       "6    711.802379      570\n",
       "7   1120.017769      984\n",
       "8   1161.839825     1151\n",
       "9   1078.031194      732\n",
       "10   -57.044477      163\n",
       "11  1285.067387     1216\n",
       "12   522.626058      902\n",
       "13   853.379034      745\n",
       "14  1329.217514      992\n",
       "15   528.239151      482\n",
       "16   708.352839      581\n",
       "17   -15.222421      425\n",
       "18  1496.983548     1246\n",
       "19   910.818023      843"
      ]
     },
     "execution_count": 49,
     "metadata": {},
     "output_type": "execute_result"
    }
   ],
   "source": [
    "pd.DataFrame(data=pd.concat((pred,y_test), axis =1))"
   ]
  },
  {
   "cell_type": "code",
   "execution_count": null,
   "id": "acute-measurement",
   "metadata": {},
   "outputs": [],
   "source": []
  }
 ],
 "metadata": {
  "kernelspec": {
   "display_name": "Python 3",
   "language": "python",
   "name": "python3"
  },
  "language_info": {
   "codemirror_mode": {
    "name": "ipython",
    "version": 3
   },
   "file_extension": ".py",
   "mimetype": "text/x-python",
   "name": "python",
   "nbconvert_exporter": "python",
   "pygments_lexer": "ipython3",
   "version": "3.9.1"
  }
 },
 "nbformat": 4,
 "nbformat_minor": 5
}
